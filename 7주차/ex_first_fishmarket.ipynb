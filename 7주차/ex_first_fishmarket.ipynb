{
 "cells": [
  {
   "cell_type": "markdown",
   "id": "ec9d42b4",
   "metadata": {},
   "source": [
    "###  생선분류 서비스 구현 \n",
    "\n",
    "- 주  제 : 생선별 특징(Feature)를 파악해서 생선을 분류\n",
    "- 데이터 : 생선별 크기, 무게, 두께 대각선길이,....\n",
    "- 타  겟 : 생선이름\n",
    "- 진  행 \n",
    "    * (1) 데이터에대한 분석 ==> 주요 특징만 추출\n",
    "    * (2) 학습 방법 선택\n",
    "        - 주  학습방법 : 지도학습\n",
    "        - 세부학습방법 : 가장 쉽고 간단한 최근접이웃알고리즘(KNN)"
   ]
  },
  {
   "cell_type": "code",
   "execution_count": 1,
   "id": "9084d081",
   "metadata": {},
   "outputs": [],
   "source": [
    "import pandas as pd\n",
    "import numpy as np"
   ]
  },
  {
   "cell_type": "markdown",
   "id": "2e12dde6",
   "metadata": {},
   "source": [
    "### [1] 데이터 준비 => 로딩 "
   ]
  },
  {
   "cell_type": "code",
   "execution_count": 2,
   "id": "a3016e28",
   "metadata": {},
   "outputs": [],
   "source": [
    "# 상대경로 => . : 현재위치,   .. : 상위위치 즉 한단계 위\n",
    "filename='../../data/fish.csv'"
   ]
  },
  {
   "cell_type": "code",
   "execution_count": 3,
   "id": "c1b7ef54",
   "metadata": {},
   "outputs": [],
   "source": [
    "fishDF=pd.read_csv(filename)"
   ]
  },
  {
   "cell_type": "markdown",
   "id": "6ff3da7f",
   "metadata": {},
   "source": [
    "### [2] 데이터 확인"
   ]
  },
  {
   "cell_type": "code",
   "execution_count": 4,
   "id": "6d4d5f64",
   "metadata": {},
   "outputs": [
    {
     "name": "stdout",
     "output_type": "stream",
     "text": [
      "<class 'pandas.core.frame.DataFrame'>\n",
      "RangeIndex: 159 entries, 0 to 158\n",
      "Data columns (total 6 columns):\n",
      " #   Column    Non-Null Count  Dtype  \n",
      "---  ------    --------------  -----  \n",
      " 0   Species   159 non-null    object \n",
      " 1   Weight    159 non-null    float64\n",
      " 2   Length    159 non-null    float64\n",
      " 3   Diagonal  159 non-null    float64\n",
      " 4   Height    159 non-null    float64\n",
      " 5   Width     159 non-null    float64\n",
      "dtypes: float64(5), object(1)\n",
      "memory usage: 7.6+ KB\n"
     ]
    }
   ],
   "source": [
    "# 전체 데이터 구조 ==> info()\n",
    "fishDF.info()"
   ]
  },
  {
   "cell_type": "code",
   "execution_count": 5,
   "id": "b97820d6",
   "metadata": {
    "scrolled": true
   },
   "outputs": [
    {
     "data": {
      "text/html": [
       "<div>\n",
       "<style scoped>\n",
       "    .dataframe tbody tr th:only-of-type {\n",
       "        vertical-align: middle;\n",
       "    }\n",
       "\n",
       "    .dataframe tbody tr th {\n",
       "        vertical-align: top;\n",
       "    }\n",
       "\n",
       "    .dataframe thead th {\n",
       "        text-align: right;\n",
       "    }\n",
       "</style>\n",
       "<table border=\"1\" class=\"dataframe\">\n",
       "  <thead>\n",
       "    <tr style=\"text-align: right;\">\n",
       "      <th></th>\n",
       "      <th>Weight</th>\n",
       "      <th>Length</th>\n",
       "      <th>Diagonal</th>\n",
       "      <th>Height</th>\n",
       "      <th>Width</th>\n",
       "    </tr>\n",
       "  </thead>\n",
       "  <tbody>\n",
       "    <tr>\n",
       "      <th>count</th>\n",
       "      <td>159.000000</td>\n",
       "      <td>159.000000</td>\n",
       "      <td>159.000000</td>\n",
       "      <td>159.000000</td>\n",
       "      <td>159.000000</td>\n",
       "    </tr>\n",
       "    <tr>\n",
       "      <th>mean</th>\n",
       "      <td>398.326415</td>\n",
       "      <td>28.415723</td>\n",
       "      <td>31.227044</td>\n",
       "      <td>8.970994</td>\n",
       "      <td>4.417486</td>\n",
       "    </tr>\n",
       "    <tr>\n",
       "      <th>std</th>\n",
       "      <td>357.978317</td>\n",
       "      <td>10.716328</td>\n",
       "      <td>11.610246</td>\n",
       "      <td>4.286208</td>\n",
       "      <td>1.685804</td>\n",
       "    </tr>\n",
       "    <tr>\n",
       "      <th>min</th>\n",
       "      <td>0.000000</td>\n",
       "      <td>8.400000</td>\n",
       "      <td>8.800000</td>\n",
       "      <td>1.728400</td>\n",
       "      <td>1.047600</td>\n",
       "    </tr>\n",
       "    <tr>\n",
       "      <th>25%</th>\n",
       "      <td>120.000000</td>\n",
       "      <td>21.000000</td>\n",
       "      <td>23.150000</td>\n",
       "      <td>5.944800</td>\n",
       "      <td>3.385650</td>\n",
       "    </tr>\n",
       "    <tr>\n",
       "      <th>50%</th>\n",
       "      <td>273.000000</td>\n",
       "      <td>27.300000</td>\n",
       "      <td>29.400000</td>\n",
       "      <td>7.786000</td>\n",
       "      <td>4.248500</td>\n",
       "    </tr>\n",
       "    <tr>\n",
       "      <th>75%</th>\n",
       "      <td>650.000000</td>\n",
       "      <td>35.500000</td>\n",
       "      <td>39.650000</td>\n",
       "      <td>12.365900</td>\n",
       "      <td>5.584500</td>\n",
       "    </tr>\n",
       "    <tr>\n",
       "      <th>max</th>\n",
       "      <td>1650.000000</td>\n",
       "      <td>63.400000</td>\n",
       "      <td>68.000000</td>\n",
       "      <td>18.957000</td>\n",
       "      <td>8.142000</td>\n",
       "    </tr>\n",
       "  </tbody>\n",
       "</table>\n",
       "</div>"
      ],
      "text/plain": [
       "            Weight      Length    Diagonal      Height       Width\n",
       "count   159.000000  159.000000  159.000000  159.000000  159.000000\n",
       "mean    398.326415   28.415723   31.227044    8.970994    4.417486\n",
       "std     357.978317   10.716328   11.610246    4.286208    1.685804\n",
       "min       0.000000    8.400000    8.800000    1.728400    1.047600\n",
       "25%     120.000000   21.000000   23.150000    5.944800    3.385650\n",
       "50%     273.000000   27.300000   29.400000    7.786000    4.248500\n",
       "75%     650.000000   35.500000   39.650000   12.365900    5.584500\n",
       "max    1650.000000   63.400000   68.000000   18.957000    8.142000"
      ]
     },
     "execution_count": 5,
     "metadata": {},
     "output_type": "execute_result"
    }
   ],
   "source": [
    "# 컬럼별 데이터 확인 ==> 통계적 ==> describe()\n",
    "fishDF.describe()"
   ]
  },
  {
   "cell_type": "code",
   "execution_count": 6,
   "id": "392c16a8",
   "metadata": {},
   "outputs": [
    {
     "data": {
      "text/plain": [
       "Species     0\n",
       "Weight      0\n",
       "Length      0\n",
       "Diagonal    0\n",
       "Height      0\n",
       "Width       0\n",
       "dtype: int64"
      ]
     },
     "execution_count": 6,
     "metadata": {},
     "output_type": "execute_result"
    }
   ],
   "source": [
    "# 결측치 확인 =>  isna()\n",
    "fishDF.isna().sum()"
   ]
  },
  {
   "cell_type": "markdown",
   "id": "8d8c5d09",
   "metadata": {},
   "source": [
    "### [3] 길이와 무게로 2가지 종류의 생선 분류"
   ]
  },
  {
   "cell_type": "code",
   "execution_count": 7,
   "id": "bea9ad64",
   "metadata": {},
   "outputs": [
    {
     "data": {
      "text/plain": [
       "array(['Bream', 'Roach', 'Whitefish', 'Parkki', 'Perch', 'Pike', 'Smelt'],\n",
       "      dtype=object)"
      ]
     },
     "execution_count": 7,
     "metadata": {},
     "output_type": "execute_result"
    }
   ],
   "source": [
    "# 현재 모든 생선 종류 확인\n",
    "fishDF.Species.unique()"
   ]
  },
  {
   "cell_type": "code",
   "execution_count": 8,
   "id": "f2301e74",
   "metadata": {},
   "outputs": [],
   "source": [
    "# 도미(Bream)과 빙어(Smelt)의 무게랑 길이 데이터만 추출\n",
    "bsMask=(fishDF['Species'] == 'Bream')  | (fishDF['Species'] == 'Smelt') "
   ]
  },
  {
   "cell_type": "code",
   "execution_count": 9,
   "id": "3e68f782",
   "metadata": {},
   "outputs": [
    {
     "data": {
      "text/plain": [
       "Index(['Species', 'Weight', 'Length'], dtype='object')"
      ]
     },
     "execution_count": 9,
     "metadata": {},
     "output_type": "execute_result"
    }
   ],
   "source": [
    "bsDF=fishDF[bsMask][fishDF.columns[:3]]\n",
    "bsDF.columns"
   ]
  },
  {
   "cell_type": "code",
   "execution_count": 10,
   "id": "a4589a68",
   "metadata": {},
   "outputs": [],
   "source": [
    "# 시각화로 도미(Bream)과 빙어(Smelt) 분류 가능 여부 확인\n",
    "import matplotlib.pyplot as plt"
   ]
  },
  {
   "cell_type": "code",
   "execution_count": 11,
   "id": "f4feee4b",
   "metadata": {},
   "outputs": [],
   "source": [
    "# Bream데이터만 출력\n",
    "breamDF=bsDF[bsDF['Species'] == 'Bream']\n",
    "smeltDF=bsDF[bsDF['Species'] == 'Smelt']"
   ]
  },
  {
   "cell_type": "code",
   "execution_count": 12,
   "id": "d81cb9de",
   "metadata": {},
   "outputs": [
    {
     "data": {
      "image/png": "[encoded data removed]",
      "text/plain": [
       "<Figure size 640x480 with 1 Axes>"
      ]
     },
     "metadata": {},
     "output_type": "display_data"
    }
   ],
   "source": [
    "plt.scatter(breamDF.Weight, breamDF.Length, label='Bream')\n",
    "plt.scatter(smeltDF.Weight, smeltDF.Length, label='Smelt')\n",
    "plt.xlabel('Weight')\n",
    "plt.ylabel('Length')\n",
    "plt.legend()\n",
    "plt.show()"
   ]
  },
  {
   "cell_type": "markdown",
   "id": "84e4c395",
   "metadata": {},
   "source": [
    "### [4] 데이터 가공 \n",
    "\n",
    "- 학습 라이브러리에 형태로 가공"
   ]
  },
  {
   "cell_type": "markdown",
   "id": "7fec8939",
   "metadata": {},
   "source": [
    "- [4-1] 특성/피쳐 데이터와  타겟 테이터 분리"
   ]
  },
  {
   "cell_type": "code",
   "execution_count": 13,
   "id": "73ca658e",
   "metadata": {},
   "outputs": [],
   "source": [
    "# 특성/피쳐만 추출\n",
    "bsData = bsDF[bsDF.columns[1:]]\n",
    "\n",
    "# 타겟만 추출\n",
    "bsTarget = bsDF.Species"
   ]
  },
  {
   "cell_type": "code",
   "execution_count": 14,
   "id": "f11e1f5b",
   "metadata": {},
   "outputs": [
    {
     "name": "stdout",
     "output_type": "stream",
     "text": [
      "(49, 2) (49,)\n"
     ]
    }
   ],
   "source": [
    "# 차원 형태 확인 \n",
    "print(bsData.shape, bsTarget.shape)"
   ]
  },
  {
   "cell_type": "code",
   "execution_count": null,
   "id": "199a26d7",
   "metadata": {},
   "outputs": [],
   "source": []
  },
  {
   "cell_type": "markdown",
   "id": "6a023c1c",
   "metadata": {},
   "source": [
    "### [5] 학습\n",
    "- 메인학습방법 : 지도학습 - 분류(Classification)\n",
    "- 세부학습방법 : 여러가지 알고리즘 중에서 가장 쉬운 최근접이웃알고리즘"
   ]
  },
  {
   "cell_type": "code",
   "execution_count": 15,
   "id": "afdd1de0",
   "metadata": {},
   "outputs": [],
   "source": [
    "from sklearn.neighbors import KNeighborsClassifier"
   ]
  },
  {
   "cell_type": "code",
   "execution_count": 16,
   "id": "fd263b73",
   "metadata": {},
   "outputs": [],
   "source": [
    "# 학습객체 생성 -> 기본값으로 생성\n",
    "kncModel=KNeighborsClassifier()"
   ]
  },
  {
   "cell_type": "code",
   "execution_count": 17,
   "id": "5722445b",
   "metadata": {},
   "outputs": [
    {
     "data": {
      "text/html": [
       "<style>#sk-container-id-1 {color: black;}#sk-container-id-1 pre{padding: 0;}#sk-container-id-1 div.sk-toggleable {background-color: white;}#sk-container-id-1 label.sk-toggleable__label {cursor: pointer;display: block;width: 100%;margin-bottom: 0;padding: 0.3em;box-sizing: border-box;text-align: center;}#sk-container-id-1 label.sk-toggleable__label-arrow:before {content: \"▸\";float: left;margin-right: 0.25em;color: #696969;}#sk-container-id-1 label.sk-toggleable__label-arrow:hover:before {color: black;}#sk-container-id-1 div.sk-estimator:hover label.sk-toggleable__label-arrow:before {color: black;}#sk-container-id-1 div.sk-toggleable__content {max-height: 0;max-width: 0;overflow: hidden;text-align: left;background-color: #f0f8ff;}#sk-container-id-1 div.sk-toggleable__content pre {margin: 0.2em;color: black;border-radius: 0.25em;background-color: #f0f8ff;}#sk-container-id-1 input.sk-toggleable__control:checked~div.sk-toggleable__content {max-height: 200px;max-width: 100%;overflow: auto;}#sk-container-id-1 input.sk-toggleable__control:checked~label.sk-toggleable__label-arrow:before {content: \"▾\";}#sk-container-id-1 div.sk-estimator input.sk-toggleable__control:checked~label.sk-toggleable__label {background-color: #d4ebff;}#sk-container-id-1 div.sk-label input.sk-toggleable__control:checked~label.sk-toggleable__label {background-color: #d4ebff;}#sk-container-id-1 input.sk-hidden--visually {border: 0;clip: rect(1px 1px 1px 1px);clip: rect(1px, 1px, 1px, 1px);height: 1px;margin: -1px;overflow: hidden;padding: 0;position: absolute;width: 1px;}#sk-container-id-1 div.sk-estimator {font-family: monospace;background-color: #f0f8ff;border: 1px dotted black;border-radius: 0.25em;box-sizing: border-box;margin-bottom: 0.5em;}#sk-container-id-1 div.sk-estimator:hover {background-color: #d4ebff;}#sk-container-id-1 div.sk-parallel-item::after {content: \"\";width: 100%;border-bottom: 1px solid gray;flex-grow: 1;}#sk-container-id-1 div.sk-label:hover label.sk-toggleable__label {background-color: #d4ebff;}#sk-container-id-1 div.sk-serial::before {content: \"\";position: absolute;border-left: 1px solid gray;box-sizing: border-box;top: 0;bottom: 0;left: 50%;z-index: 0;}#sk-container-id-1 div.sk-serial {display: flex;flex-direction: column;align-items: center;background-color: white;padding-right: 0.2em;padding-left: 0.2em;position: relative;}#sk-container-id-1 div.sk-item {position: relative;z-index: 1;}#sk-container-id-1 div.sk-parallel {display: flex;align-items: stretch;justify-content: center;background-color: white;position: relative;}#sk-container-id-1 div.sk-item::before, #sk-container-id-1 div.sk-parallel-item::before {content: \"\";position: absolute;border-left: 1px solid gray;box-sizing: border-box;top: 0;bottom: 0;left: 50%;z-index: -1;}#sk-container-id-1 div.sk-parallel-item {display: flex;flex-direction: column;z-index: 1;position: relative;background-color: white;}#sk-container-id-1 div.sk-parallel-item:first-child::after {align-self: flex-end;width: 50%;}#sk-container-id-1 div.sk-parallel-item:last-child::after {align-self: flex-start;width: 50%;}#sk-container-id-1 div.sk-parallel-item:only-child::after {width: 0;}#sk-container-id-1 div.sk-dashed-wrapped {border: 1px dashed gray;margin: 0 0.4em 0.5em 0.4em;box-sizing: border-box;padding-bottom: 0.4em;background-color: white;}#sk-container-id-1 div.sk-label label {font-family: monospace;font-weight: bold;display: inline-block;line-height: 1.2em;}#sk-container-id-1 div.sk-label-container {text-align: center;}#sk-container-id-1 div.sk-container {/* jupyter's `normalize.less` sets `[hidden] { display: none; }` but bootstrap.min.css set `[hidden] { display: none !important; }` so we also need the `!important` here to be able to override the default hidden behavior on the sphinx rendered scikit-learn.org. See: https://github.com/scikit-learn/scikit-learn/issues/21755 */display: inline-block !important;position: relative;}#sk-container-id-1 div.sk-text-repr-fallback {display: none;}</style><div id=\"sk-container-id-1\" class=\"sk-top-container\"><div class=\"sk-text-repr-fallback\"><pre>KNeighborsClassifier()</pre><b>In a Jupyter environment, please rerun this cell to show the HTML representation or trust the notebook. <br />On GitHub, the HTML representation is unable to render, please try loading this page with nbviewer.org.</b></div><div class=\"sk-container\" hidden><div class=\"sk-item\"><div class=\"sk-estimator sk-toggleable\"><input class=\"sk-toggleable__control sk-hidden--visually\" id=\"sk-estimator-id-1\" type=\"checkbox\" checked><label for=\"sk-estimator-id-1\" class=\"sk-toggleable__label sk-toggleable__label-arrow\">KNeighborsClassifier</label><div class=\"sk-toggleable__content\"><pre>KNeighborsClassifier()</pre></div></div></div></div></div>"
      ],
      "text/plain": [
       "KNeighborsClassifier()"
      ]
     },
     "execution_count": 17,
     "metadata": {},
     "output_type": "execute_result"
    }
   ],
   "source": [
    "# 학습 진행 =>  fit(학습특성데이터 2D, 학습타겟데이터 1D)\n",
    "kncModel.fit(bsData, bsTarget)"
   ]
  },
  {
   "cell_type": "code",
   "execution_count": 18,
   "id": "f772bde8",
   "metadata": {},
   "outputs": [
    {
     "data": {
      "text/plain": [
       "array(['Bream', 'Smelt'], dtype=object)"
      ]
     },
     "execution_count": 18,
     "metadata": {},
     "output_type": "execute_result"
    }
   ],
   "source": [
    "# 학습 진행 후 설정된 속성값\n",
    "kncModel.classes_"
   ]
  },
  {
   "cell_type": "code",
   "execution_count": 19,
   "id": "fa5e00e8",
   "metadata": {},
   "outputs": [
    {
     "data": {
      "text/plain": [
       "49"
      ]
     },
     "execution_count": 19,
     "metadata": {},
     "output_type": "execute_result"
    }
   ],
   "source": [
    "kncModel.n_samples_fit_"
   ]
  },
  {
   "cell_type": "code",
   "execution_count": 20,
   "id": "615cd783",
   "metadata": {},
   "outputs": [
    {
     "data": {
      "text/plain": [
       "2"
      ]
     },
     "execution_count": 20,
     "metadata": {},
     "output_type": "execute_result"
    }
   ],
   "source": [
    "kncModel.n_features_in_"
   ]
  },
  {
   "cell_type": "code",
   "execution_count": 21,
   "id": "e7ea663f",
   "metadata": {},
   "outputs": [
    {
     "data": {
      "text/plain": [
       "array(['Weight', 'Length'], dtype=object)"
      ]
     },
     "execution_count": 21,
     "metadata": {},
     "output_type": "execute_result"
    }
   ],
   "source": [
    "kncModel.feature_names_in_"
   ]
  },
  {
   "cell_type": "markdown",
   "id": "55947448",
   "metadata": {},
   "source": [
    "### [6] 평가 \n",
    "- 학습 후에 제대로 학습이 되었는지 확인하는 단계\n",
    "- 비교 대상\n",
    "    * 학  습 데이터에 대한 평가 => fit()메서드에 사용한 데이터\n",
    "    * 테스트 데이터에 대한 평가 => fit()메서드에 사용하지 않은 데이터 \n",
    "- 결과\n",
    "    * 과대적합 <= 학습 데이터 평가 점수 > 테스트 데이터 평가 점수: 점수차가 크게 발생\n",
    "    * 과소적합 <= 학습 데이터 평가 점수 & 테스트 데이터 평가 점수: 2개모두 점수 낮음\n",
    "    * 최적적합 <== BEST 학습과 테스트 평가 점수가 90대 비슷비슷"
   ]
  },
  {
   "cell_type": "code",
   "execution_count": 22,
   "id": "37fddb9d",
   "metadata": {},
   "outputs": [
    {
     "data": {
      "text/plain": [
       "1.0"
      ]
     },
     "execution_count": 22,
     "metadata": {},
     "output_type": "execute_result"
    }
   ],
   "source": [
    "# score(테스트특성데이터 2D, 테스트타겟데이터 1D)\n",
    "# (1) 학습데이터 평가 진행\n",
    "kncModel.score(bsData, bsTarget)"
   ]
  },
  {
   "cell_type": "markdown",
   "id": "9ed907f6",
   "metadata": {},
   "source": [
    "### [7] 예측\n",
    "\n",
    "- 한 번도 사용되지 않은 새로운 데이터로 예측\n",
    "- 모델의 성능이 거의 완성된 경우 사용\n",
    "- 모델 완성 후  서비스(앱/웹)에서 예측에 활용되는 메서드 \n",
    "- => predict(새로운 데이터 2D)\n",
    "- => 예측에 대한 검증\n",
    "    * 확률값 확인 =>  확률값 = predict_proba()\n",
    "    * 시각화/이웃 데이터 확인 => 거리, 인덱스 = kneighbors() "
   ]
  },
  {
   "cell_type": "code",
   "execution_count": 23,
   "id": "adc6a050",
   "metadata": {},
   "outputs": [],
   "source": [
    "# 임의 데이터\n",
    "#new_data=pd.DataFrame([[48, 27]], columns=[bsDF.columns[1:3]])\n",
    "new_data=[48, 27]"
   ]
  },
  {
   "cell_type": "code",
   "execution_count": 24,
   "id": "4d787673",
   "metadata": {},
   "outputs": [
    {
     "name": "stderr",
     "output_type": "stream",
     "text": [
      "D:\\anaconda3\\Lib\\site-packages\\sklearn\\base.py:464: UserWarning: X does not have valid feature names, but KNeighborsClassifier was fitted with feature names\n",
      "  warnings.warn(\n"
     ]
    },
    {
     "data": {
      "text/plain": [
       "array(['Smelt'], dtype=object)"
      ]
     },
     "execution_count": 24,
     "metadata": {},
     "output_type": "execute_result"
    }
   ],
   "source": [
    "# 예측\n",
    "pre_target=kncModel.predict([new_data])\n",
    "pre_target"
   ]
  },
  {
   "cell_type": "code",
   "execution_count": 25,
   "id": "2d33c6e4",
   "metadata": {},
   "outputs": [
    {
     "name": "stderr",
     "output_type": "stream",
     "text": [
      "D:\\anaconda3\\Lib\\site-packages\\sklearn\\base.py:464: UserWarning: X does not have valid feature names, but KNeighborsClassifier was fitted with feature names\n",
      "  warnings.warn(\n"
     ]
    }
   ],
   "source": [
    "# 예측에 대한 검증 ==> 최근접이웃  찾기 =>kneighbors() 메서드\n",
    "# 거리값, 이웃 인덱스\n",
    "distance_, k_index_ = kncModel.kneighbors([new_data])"
   ]
  },
  {
   "cell_type": "code",
   "execution_count": 26,
   "id": "5e6f85fc",
   "metadata": {},
   "outputs": [
    {
     "data": {
      "text/plain": [
       "(array([[30.55503232, 31.01902642, 37.55422746, 38.44008325, 38.73861123]]),\n",
       " array([[48, 47, 45, 46, 44]], dtype=int64))"
      ]
     },
     "execution_count": 26,
     "metadata": {},
     "output_type": "execute_result"
    }
   ],
   "source": [
    "distance_, k_index_"
   ]
  },
  {
   "cell_type": "code",
   "execution_count": 27,
   "id": "cdfee835",
   "metadata": {},
   "outputs": [
    {
     "data": {
      "text/plain": [
       "(1, 5)"
      ]
     },
     "execution_count": 27,
     "metadata": {},
     "output_type": "execute_result"
    }
   ],
   "source": [
    "k_index_.shape"
   ]
  },
  {
   "cell_type": "code",
   "execution_count": 28,
   "id": "d25fcd4e",
   "metadata": {},
   "outputs": [
    {
     "data": {
      "text/plain": [
       "array([48, 47, 45, 46, 44], dtype=int64)"
      ]
     },
     "execution_count": 28,
     "metadata": {},
     "output_type": "execute_result"
    }
   ],
   "source": [
    "k_index_.reshape(-1)"
   ]
  },
  {
   "cell_type": "code",
   "execution_count": 29,
   "id": "b50427eb",
   "metadata": {},
   "outputs": [],
   "source": [
    "# 시각화로 확인 하기 "
   ]
  },
  {
   "cell_type": "code",
   "execution_count": 30,
   "id": "7a6bb204",
   "metadata": {},
   "outputs": [
    {
     "data": {
      "image/png": "[encoded data removed]",
      "text/plain": [
       "<Figure size 640x480 with 1 Axes>"
      ]
     },
     "metadata": {},
     "output_type": "display_data"
    }
   ],
   "source": [
    "plt.scatter(breamDF.Weight, breamDF.Length, label='Bream')\n",
    "plt.scatter(smeltDF.Weight, smeltDF.Length, label='Smelt')\n",
    "plt.plot(new_data[0], new_data[1], '^r', label='New Data')\n",
    "#plt.scatter, label='K-Neighbors')\n",
    "plt.xlabel('Weight')\n",
    "plt.ylabel('Length')\n",
    "plt.legend()\n",
    "plt.show()"
   ]
  },
  {
   "cell_type": "markdown",
   "id": "a0a62400",
   "metadata": {},
   "source": [
    "- 예측에 대한 확률 ==> predict_proba()\n"
   ]
  },
  {
   "cell_type": "code",
   "execution_count": 31,
   "id": "059af47c",
   "metadata": {},
   "outputs": [
    {
     "name": "stdout",
     "output_type": "stream",
     "text": [
      "['Bream' 'Smelt']\n",
      "[[0. 1.]]\n"
     ]
    },
    {
     "name": "stderr",
     "output_type": "stream",
     "text": [
      "D:\\anaconda3\\Lib\\site-packages\\sklearn\\base.py:464: UserWarning: X does not have valid feature names, but KNeighborsClassifier was fitted with feature names\n",
      "  warnings.warn(\n"
     ]
    }
   ],
   "source": [
    "result_proba=kncModel.predict_proba([new_data])\n",
    "print(kncModel.classes_, result_proba, sep='\\n')"
   ]
  },
  {
   "cell_type": "code",
   "execution_count": null,
   "id": "02859748",
   "metadata": {},
   "outputs": [],
   "source": []
  }
 ],
 "metadata": {
  "kernelspec": {
   "display_name": "MY_PYTHON",
   "language": "python",
   "name": "python3"
  },
  "language_info": {
   "codemirror_mode": {
    "name": "ipython",
    "version": 3
   },
   "file_extension": ".py",
   "mimetype": "text/x-python",
   "name": "python",
   "nbconvert_exporter": "python",
   "pygments_lexer": "ipython3",
   "version": "3.9.17"
  }
 },
 "nbformat": 4,
 "nbformat_minor": 5
}
