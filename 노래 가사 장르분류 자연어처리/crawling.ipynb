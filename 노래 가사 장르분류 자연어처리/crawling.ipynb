{
 "cells": [
  {
   "cell_type": "code",
   "execution_count": 194,
   "metadata": {},
   "outputs": [],
   "source": [
    "import requests\n",
    "from bs4 import BeautifulSoup\n",
    "from tqdm import tqdm\n",
    "import time"
   ]
  },
  {
   "cell_type": "code",
   "execution_count": 195,
   "metadata": {},
   "outputs": [],
   "source": [
    "# dic = {'User-Agent':\"Mozilla/5.0 (Macintosh; Intel Mac OS X 13_5_2)\"}\n",
    "# song_hrefs = []\n",
    "# for i in range (1,9952,50):\n",
    "#     url = f'https://www.melon.com/genre/song_list.htm?gnrCode=GN0200#params%5BgnrCode%5D=GN0200&params%5BdtlGnrCode%5D=&params%5BorderBy%5D=NEW&params%5BsteadyYn%5D=N&po=pageObj&startIndex={i}'\n",
    "#     response = requests.get(url, headers=dic)\n",
    "#     soup = BeautifulSoup(response.text, 'html.parser')\n",
    "#     song_elements = soup.find_all('a', class_='btn button_icons type03 song_info')\n",
    "#     for song_element in song_elements:\n",
    "#         href = song_element['href']\n",
    "#         song_hrefs.append(int(href[-11:-3]))\n",
    "#     time.sleep(1.5)"
   ]
  },
  {
   "cell_type": "code",
   "execution_count": 196,
   "metadata": {},
   "outputs": [],
   "source": [
    "# song_lyrics = []\n",
    "# for song_href in tqdm(song_hrefs):\n",
    "#     url = f'https://www.melon.com/song/detail.htm?songId={song_href}'\n",
    "#     response = requests.get(url, headers=dic)\n",
    "#     soup = BeautifulSoup(response.text, 'html.parser')\n",
    "#     song_lyric = str(soup.find('div', class_='lyric'))\n",
    "#     song_lyric = song_lyric.replace('<br/>',' ')\n",
    "#     song_lyric = song_lyric.replace('<div class=\"lyric\" id=\"d_video_summary\"><!-- height:auto; 로 변경시, 확장됨 -->\\n\\t\\t\\t\\t\\t\\t\\t','')\n",
    "#     song_lyric = song_lyric.replace('\\n\\t\\t\\t\\t\\t</div>','')\n",
    "#     song_lyrics.append(song_lyric)\n",
    "#     time.sleep(1.5)"
   ]
  },
  {
   "cell_type": "code",
   "execution_count": 200,
   "metadata": {},
   "outputs": [
    {
     "name": "stderr",
     "output_type": "stream",
     "text": [
      "  0%|          | 0/200 [00:02<?, ?it/s]\n"
     ]
    },
    {
     "ename": "NoSuchWindowException",
     "evalue": "Message: no such window: target window already closed\nfrom unknown error: web view not found\n  (Session info: chrome=117.0.5938.92)\nStacktrace:\n\tGetHandleVerifier [0x00007FF6E0227892+54818]\n\t(No symbol) [0x00007FF6E0196AC2]\n\t(No symbol) [0x00007FF6E004DA3B]\n\t(No symbol) [0x00007FF6E002DEE8]\n\t(No symbol) [0x00007FF6E00B3237]\n\t(No symbol) [0x00007FF6E00C6C6F]\n\t(No symbol) [0x00007FF6E00AE883]\n\t(No symbol) [0x00007FF6E0083691]\n\t(No symbol) [0x00007FF6E00848D4]\n\tGetHandleVerifier [0x00007FF6E058B992+3610402]\n\tGetHandleVerifier [0x00007FF6E05E1860+3962352]\n\tGetHandleVerifier [0x00007FF6E05D9D4F+3930847]\n\tGetHandleVerifier [0x00007FF6E02C3646+693206]\n\t(No symbol) [0x00007FF6E01A1628]\n\t(No symbol) [0x00007FF6E019D934]\n\t(No symbol) [0x00007FF6E019DA62]\n\t(No symbol) [0x00007FF6E018E113]\n\tBaseThreadInitThunk [0x00007FFD4FF77344+20]\n\tRtlUserThreadStart [0x00007FFD517626B1+33]\n",
     "output_type": "error",
     "traceback": [
      "\u001b[1;31m---------------------------------------------------------------------------\u001b[0m",
      "\u001b[1;31mNoSuchWindowException\u001b[0m                     Traceback (most recent call last)",
      "\u001b[1;32mc:\\Users\\KDP-50\\Documents\\MY_PANDAS\\자연어처리\\project.ipynb 셀 4\u001b[0m line \u001b[0;36m2\n\u001b[0;32m     <a href='vscode-notebook-cell:/c%3A/Users/KDP-50/Documents/MY_PANDAS/%EC%9E%90%EC%97%B0%EC%96%B4%EC%B2%98%EB%A6%AC/project.ipynb#X26sZmlsZQ%3D%3D?line=18'>19</a>\u001b[0m driver\u001b[39m.\u001b[39mget(url)\n\u001b[0;32m     <a href='vscode-notebook-cell:/c%3A/Users/KDP-50/Documents/MY_PANDAS/%EC%9E%90%EC%97%B0%EC%96%B4%EC%B2%98%EB%A6%AC/project.ipynb#X26sZmlsZQ%3D%3D?line=19'>20</a>\u001b[0m time\u001b[39m.\u001b[39msleep(\u001b[39m2\u001b[39m)\n\u001b[1;32m---> <a href='vscode-notebook-cell:/c%3A/Users/KDP-50/Documents/MY_PANDAS/%EC%9E%90%EC%97%B0%EC%96%B4%EC%B2%98%EB%A6%AC/project.ipynb#X26sZmlsZQ%3D%3D?line=21'>22</a>\u001b[0m page_source \u001b[39m=\u001b[39m driver\u001b[39m.\u001b[39;49mpage_source\n\u001b[0;32m     <a href='vscode-notebook-cell:/c%3A/Users/KDP-50/Documents/MY_PANDAS/%EC%9E%90%EC%97%B0%EC%96%B4%EC%B2%98%EB%A6%AC/project.ipynb#X26sZmlsZQ%3D%3D?line=23'>24</a>\u001b[0m soup \u001b[39m=\u001b[39m BeautifulSoup(page_source, \u001b[39m'\u001b[39m\u001b[39mhtml.parser\u001b[39m\u001b[39m'\u001b[39m)\n\u001b[0;32m     <a href='vscode-notebook-cell:/c%3A/Users/KDP-50/Documents/MY_PANDAS/%EC%9E%90%EC%97%B0%EC%96%B4%EC%B2%98%EB%A6%AC/project.ipynb#X26sZmlsZQ%3D%3D?line=24'>25</a>\u001b[0m song_elements \u001b[39m=\u001b[39m soup\u001b[39m.\u001b[39mfind_all(\u001b[39m'\u001b[39m\u001b[39ma\u001b[39m\u001b[39m'\u001b[39m, class_\u001b[39m=\u001b[39m\u001b[39m'\u001b[39m\u001b[39mbtn button_icons type03 song_info\u001b[39m\u001b[39m'\u001b[39m)\n",
      "File \u001b[1;32mc:\\Users\\KDP-50\\anaconda3\\envs\\MY_PYTHON\\lib\\site-packages\\selenium\\webdriver\\remote\\webdriver.py:445\u001b[0m, in \u001b[0;36mWebDriver.page_source\u001b[1;34m(self)\u001b[0m\n\u001b[0;32m    436\u001b[0m \u001b[39m@property\u001b[39m\n\u001b[0;32m    437\u001b[0m \u001b[39mdef\u001b[39;00m \u001b[39mpage_source\u001b[39m(\u001b[39mself\u001b[39m) \u001b[39m-\u001b[39m\u001b[39m>\u001b[39m \u001b[39mstr\u001b[39m:\n\u001b[0;32m    438\u001b[0m \u001b[39m    \u001b[39m\u001b[39m\"\"\"Gets the source of the current page.\u001b[39;00m\n\u001b[0;32m    439\u001b[0m \n\u001b[0;32m    440\u001b[0m \u001b[39m    :Usage:\u001b[39;00m\n\u001b[1;32m   (...)\u001b[0m\n\u001b[0;32m    443\u001b[0m \u001b[39m            driver.page_source\u001b[39;00m\n\u001b[0;32m    444\u001b[0m \u001b[39m    \"\"\"\u001b[39;00m\n\u001b[1;32m--> 445\u001b[0m     \u001b[39mreturn\u001b[39;00m \u001b[39mself\u001b[39;49m\u001b[39m.\u001b[39;49mexecute(Command\u001b[39m.\u001b[39;49mGET_PAGE_SOURCE)[\u001b[39m\"\u001b[39m\u001b[39mvalue\u001b[39m\u001b[39m\"\u001b[39m]\n",
      "File \u001b[1;32mc:\\Users\\KDP-50\\anaconda3\\envs\\MY_PYTHON\\lib\\site-packages\\selenium\\webdriver\\remote\\webdriver.py:344\u001b[0m, in \u001b[0;36mWebDriver.execute\u001b[1;34m(self, driver_command, params)\u001b[0m\n\u001b[0;32m    342\u001b[0m response \u001b[39m=\u001b[39m \u001b[39mself\u001b[39m\u001b[39m.\u001b[39mcommand_executor\u001b[39m.\u001b[39mexecute(driver_command, params)\n\u001b[0;32m    343\u001b[0m \u001b[39mif\u001b[39;00m response:\n\u001b[1;32m--> 344\u001b[0m     \u001b[39mself\u001b[39;49m\u001b[39m.\u001b[39;49merror_handler\u001b[39m.\u001b[39;49mcheck_response(response)\n\u001b[0;32m    345\u001b[0m     response[\u001b[39m\"\u001b[39m\u001b[39mvalue\u001b[39m\u001b[39m\"\u001b[39m] \u001b[39m=\u001b[39m \u001b[39mself\u001b[39m\u001b[39m.\u001b[39m_unwrap_value(response\u001b[39m.\u001b[39mget(\u001b[39m\"\u001b[39m\u001b[39mvalue\u001b[39m\u001b[39m\"\u001b[39m, \u001b[39mNone\u001b[39;00m))\n\u001b[0;32m    346\u001b[0m     \u001b[39mreturn\u001b[39;00m response\n",
      "File \u001b[1;32mc:\\Users\\KDP-50\\anaconda3\\envs\\MY_PYTHON\\lib\\site-packages\\selenium\\webdriver\\remote\\errorhandler.py:229\u001b[0m, in \u001b[0;36mErrorHandler.check_response\u001b[1;34m(self, response)\u001b[0m\n\u001b[0;32m    227\u001b[0m         alert_text \u001b[39m=\u001b[39m value[\u001b[39m\"\u001b[39m\u001b[39malert\u001b[39m\u001b[39m\"\u001b[39m]\u001b[39m.\u001b[39mget(\u001b[39m\"\u001b[39m\u001b[39mtext\u001b[39m\u001b[39m\"\u001b[39m)\n\u001b[0;32m    228\u001b[0m     \u001b[39mraise\u001b[39;00m exception_class(message, screen, stacktrace, alert_text)  \u001b[39m# type: ignore[call-arg]  # mypy is not smart enough here\u001b[39;00m\n\u001b[1;32m--> 229\u001b[0m \u001b[39mraise\u001b[39;00m exception_class(message, screen, stacktrace)\n",
      "\u001b[1;31mNoSuchWindowException\u001b[0m: Message: no such window: target window already closed\nfrom unknown error: web view not found\n  (Session info: chrome=117.0.5938.92)\nStacktrace:\n\tGetHandleVerifier [0x00007FF6E0227892+54818]\n\t(No symbol) [0x00007FF6E0196AC2]\n\t(No symbol) [0x00007FF6E004DA3B]\n\t(No symbol) [0x00007FF6E002DEE8]\n\t(No symbol) [0x00007FF6E00B3237]\n\t(No symbol) [0x00007FF6E00C6C6F]\n\t(No symbol) [0x00007FF6E00AE883]\n\t(No symbol) [0x00007FF6E0083691]\n\t(No symbol) [0x00007FF6E00848D4]\n\tGetHandleVerifier [0x00007FF6E058B992+3610402]\n\tGetHandleVerifier [0x00007FF6E05E1860+3962352]\n\tGetHandleVerifier [0x00007FF6E05D9D4F+3930847]\n\tGetHandleVerifier [0x00007FF6E02C3646+693206]\n\t(No symbol) [0x00007FF6E01A1628]\n\t(No symbol) [0x00007FF6E019D934]\n\t(No symbol) [0x00007FF6E019DA62]\n\t(No symbol) [0x00007FF6E018E113]\n\tBaseThreadInitThunk [0x00007FFD4FF77344+20]\n\tRtlUserThreadStart [0x00007FFD517626B1+33]\n"
     ]
    }
   ],
   "source": [
    "import time\n",
    "from selenium import webdriver\n",
    "from bs4 import BeautifulSoup\n",
    "import pandas as pd\n",
    "import numpy as np\n",
    "import re\n",
    "\n",
    "\n",
    "driver = webdriver.Chrome()\n",
    "\n",
    "\n",
    "user_agent = \"Mozilla/5.0 (Macintosh; Intel Mac OS X 13_5_2)\"\n",
    "headers = {'User-Agent': user_agent}\n",
    "\n",
    "song_hrefs = []\n",
    "\n",
    "for i in tqdm(range(1, 9952, 50)):\n",
    "    url = f'https://www.melon.com/genre/song_list.htm?gnrCode=GN0200#params%5BgnrCode%5D=GN0200&params%5BdtlGnrCode%5D=&params%5BorderBy%5D=NEW&params%5BsteadyYn%5D=N&po=pageObj&startIndex={i}'\n",
    "    driver.get(url)\n",
    "    time.sleep(2)\n",
    "\n",
    "    page_source = driver.page_source\n",
    "\n",
    "    soup = BeautifulSoup(page_source, 'html.parser')\n",
    "    song_elements = soup.find_all('a', class_='btn button_icons type03 song_info')\n",
    "\n",
    "    for song_element in song_elements:\n",
    "        num = re.sub(r'[^0-9]', '', song_element['href'].split('(')[-1])\n",
    "        song_hrefs.append(num)"
   ]
  },
  {
   "cell_type": "code",
   "execution_count": null,
   "metadata": {},
   "outputs": [],
   "source": [
    "pd.DataFrame(song_hrefs).to_excel('song_nums.xlsx')"
   ]
  },
  {
   "cell_type": "code",
   "execution_count": null,
   "metadata": {},
   "outputs": [
    {
     "name": "stderr",
     "output_type": "stream",
     "text": [
      " 48%|████▊     | 4822/10000 [1:29:34<1:36:10,  1.11s/it]\n"
     ]
    },
    {
     "ename": "KeyboardInterrupt",
     "evalue": "",
     "output_type": "error",
     "traceback": [
      "\u001b[1;31m---------------------------------------------------------------------------\u001b[0m",
      "\u001b[1;31mKeyboardInterrupt\u001b[0m                         Traceback (most recent call last)",
      "\u001b[1;32mc:\\Users\\KDP-50\\Documents\\MY_PANDAS\\자연어처리\\project.ipynb 셀 6\u001b[0m line \u001b[0;36m1\n\u001b[0;32m     <a href='vscode-notebook-cell:/c%3A/Users/KDP-50/Documents/MY_PANDAS/%EC%9E%90%EC%97%B0%EC%96%B4%EC%B2%98%EB%A6%AC/project.ipynb#X51sZmlsZQ%3D%3D?line=9'>10</a>\u001b[0m song_lyric \u001b[39m=\u001b[39m song_lyric\u001b[39m.\u001b[39mreplace(\u001b[39m'\u001b[39m\u001b[39m\\n\u001b[39;00m\u001b[39m\\t\u001b[39;00m\u001b[39m\\t\u001b[39;00m\u001b[39m\\t\u001b[39;00m\u001b[39m\\t\u001b[39;00m\u001b[39m\\t\u001b[39;00m\u001b[39m</div>\u001b[39m\u001b[39m'\u001b[39m,\u001b[39m'\u001b[39m\u001b[39m'\u001b[39m)\n\u001b[0;32m     <a href='vscode-notebook-cell:/c%3A/Users/KDP-50/Documents/MY_PANDAS/%EC%9E%90%EC%97%B0%EC%96%B4%EC%B2%98%EB%A6%AC/project.ipynb#X51sZmlsZQ%3D%3D?line=10'>11</a>\u001b[0m song_lyrics\u001b[39m.\u001b[39mappend(song_lyric)\n\u001b[1;32m---> <a href='vscode-notebook-cell:/c%3A/Users/KDP-50/Documents/MY_PANDAS/%EC%9E%90%EC%97%B0%EC%96%B4%EC%B2%98%EB%A6%AC/project.ipynb#X51sZmlsZQ%3D%3D?line=11'>12</a>\u001b[0m time\u001b[39m.\u001b[39;49msleep(\u001b[39m1\u001b[39;49m)\n",
      "\u001b[1;31mKeyboardInterrupt\u001b[0m: "
     ]
    }
   ],
   "source": [
    "# dic = {'User-Agent':\"Mozilla/5.0 (Macintosh; Intel Mac OS X 13_5_2)\"}\n",
    "# for song_href in tqdm(song_hrefs):\n",
    "#     url = f'https://www.melon.com/song/detail.htm?songId={song_href}'\n",
    "#     response = requests.get(url, headers=dic)\n",
    "#     soup = BeautifulSoup(response.text, 'html.parser')\n",
    "#     song_lyric = str(soup.find('div', class_='lyric'))\n",
    "#     song_lyric = song_lyric.replace('<br/>',' ')\n",
    "#     song_lyric = song_lyric.replace('<div class=\"lyric\" id=\"d_video_summary\"><!-- height:auto; 로 변경시, 확장됨 -->\\n\\t\\t\\t\\t\\t\\t\\t','')\n",
    "#     song_lyric = song_lyric.replace('\\n\\t\\t\\t\\t\\t</div>','')\n",
    "#     song_lyrics.append(song_lyric)\n",
    "#     time.sleep(1)"
   ]
  },
  {
   "cell_type": "code",
   "execution_count": 202,
   "metadata": {},
   "outputs": [
    {
     "data": {
      "text/plain": [
       "0       36826657\n",
       "1       36838822\n",
       "2       36831174\n",
       "3       36835058\n",
       "4       36831208\n",
       "          ...   \n",
       "9995    30001079\n",
       "9996    30001607\n",
       "9997    30001100\n",
       "9998     9644659\n",
       "9999     9650465\n",
       "Name: 0, Length: 10000, dtype: int64"
      ]
     },
     "execution_count": 202,
     "metadata": {},
     "output_type": "execute_result"
    }
   ],
   "source": [
    "song_hrefs = pd.read_excel('./song_nums.xlsx')\n",
    "song_hrefs[0]"
   ]
  },
  {
   "cell_type": "code",
   "execution_count": 203,
   "metadata": {},
   "outputs": [
    {
     "name": "stderr",
     "output_type": "stream",
     "text": [
      " 12%|█▏        | 1152/10000 [27:34<3:31:49,  1.44s/it]\n"
     ]
    },
    {
     "ename": "KeyboardInterrupt",
     "evalue": "",
     "output_type": "error",
     "traceback": [
      "\u001b[1;31m---------------------------------------------------------------------------\u001b[0m",
      "\u001b[1;31mKeyboardInterrupt\u001b[0m                         Traceback (most recent call last)",
      "\u001b[1;32mc:\\Users\\KDP-50\\Documents\\MY_PANDAS\\자연어처리\\project.ipynb 셀 8\u001b[0m line \u001b[0;36m1\n\u001b[0;32m      <a href='vscode-notebook-cell:/c%3A/Users/KDP-50/Documents/MY_PANDAS/%EC%9E%90%EC%97%B0%EC%96%B4%EC%B2%98%EB%A6%AC/project.ipynb#X56sZmlsZQ%3D%3D?line=7'>8</a>\u001b[0m url \u001b[39m=\u001b[39m \u001b[39mf\u001b[39m\u001b[39m'\u001b[39m\u001b[39mhttps://www.melon.com/song/detail.htm?songId=\u001b[39m\u001b[39m{\u001b[39;00msong_href\u001b[39m}\u001b[39;00m\u001b[39m'\u001b[39m\n\u001b[0;32m      <a href='vscode-notebook-cell:/c%3A/Users/KDP-50/Documents/MY_PANDAS/%EC%9E%90%EC%97%B0%EC%96%B4%EC%B2%98%EB%A6%AC/project.ipynb#X56sZmlsZQ%3D%3D?line=8'>9</a>\u001b[0m driver\u001b[39m.\u001b[39mget(url)\n\u001b[1;32m---> <a href='vscode-notebook-cell:/c%3A/Users/KDP-50/Documents/MY_PANDAS/%EC%9E%90%EC%97%B0%EC%96%B4%EC%B2%98%EB%A6%AC/project.ipynb#X56sZmlsZQ%3D%3D?line=11'>12</a>\u001b[0m time\u001b[39m.\u001b[39;49msleep(\u001b[39m1\u001b[39;49m)\n\u001b[0;32m     <a href='vscode-notebook-cell:/c%3A/Users/KDP-50/Documents/MY_PANDAS/%EC%9E%90%EC%97%B0%EC%96%B4%EC%B2%98%EB%A6%AC/project.ipynb#X56sZmlsZQ%3D%3D?line=14'>15</a>\u001b[0m page_source \u001b[39m=\u001b[39m driver\u001b[39m.\u001b[39mpage_source\n\u001b[0;32m     <a href='vscode-notebook-cell:/c%3A/Users/KDP-50/Documents/MY_PANDAS/%EC%9E%90%EC%97%B0%EC%96%B4%EC%B2%98%EB%A6%AC/project.ipynb#X56sZmlsZQ%3D%3D?line=16'>17</a>\u001b[0m soup \u001b[39m=\u001b[39m BeautifulSoup(page_source, \u001b[39m'\u001b[39m\u001b[39mhtml.parser\u001b[39m\u001b[39m'\u001b[39m)\n",
      "\u001b[1;31mKeyboardInterrupt\u001b[0m: "
     ]
    }
   ],
   "source": [
    "song_lyrics = []\n",
    "dic = {'User-Agent':\"Mozilla/5.0 (Macintosh; Intel Mac OS X 13_5_2)\"}\n",
    "\n",
    "\n",
    "driver = webdriver.Chrome()\n",
    "\n",
    "for song_href in tqdm(song_hrefs[0]):\n",
    "    url = f'https://www.melon.com/song/detail.htm?songId={song_href}'\n",
    "    driver.get(url)\n",
    "\n",
    "\n",
    "    time.sleep(1)\n",
    "\n",
    "\n",
    "    page_source = driver.page_source\n",
    "\n",
    "    soup = BeautifulSoup(page_source, 'html.parser')\n",
    "    lyric = str(soup.find('div', class_='lyric')).replace('<br/>',' ')\n",
    "    lyric = BeautifulSoup(lyric).text.strip()\n",
    "\n",
    "    song_lyrics.append(lyric)\n",
    "\n",
    "\n",
    "driver.quit()"
   ]
  },
  {
   "cell_type": "code",
   "execution_count": 204,
   "metadata": {},
   "outputs": [],
   "source": [
    "lyric_df = pd.DataFrame(song_lyrics,columns=['data'])\n",
    "lyric_df.dropna(axis=0,inplace=True)\n",
    "lyric_df.to_excel('song_lyrics.xlsx')"
   ]
  },
  {
   "cell_type": "code",
   "execution_count": null,
   "metadata": {},
   "outputs": [],
   "source": []
  },
  {
   "cell_type": "code",
   "execution_count": null,
   "metadata": {},
   "outputs": [],
   "source": [
    "song_lyrics = []\n",
    "for song_href in tqdm(song_hrefs):\n",
    "    url = f'https://www.melon.com/song/detail.htm?songId={song_href}'\n",
    "    response = requests.get(url, headers=dic)\n",
    "    soup = BeautifulSoup(response.text, 'html.parser')\n",
    "    song_lyric = str(soup.find('div', class_='lyric'))\n",
    "    song_lyric = song_lyric.replace('<br/>',' ')\n",
    "    song_lyric = song_lyric.replace('<div class=\"lyric\" id=\"d_video_summary\"><!-- height:auto; 로 변경시, 확장됨 -->\\n\\t\\t\\t\\t\\t\\t\\t','')\n",
    "    song_lyric = song_lyric.replace('\\n\\t\\t\\t\\t\\t</div>','')\n",
    "    song_lyrics.append(song_lyric)\n",
    "    time.sleep(1.5)"
   ]
  }
 ],
 "metadata": {
  "kernelspec": {
   "display_name": "MY_PYTHON",
   "language": "python",
   "name": "python3"
  },
  "language_info": {
   "codemirror_mode": {
    "name": "ipython",
    "version": 3
   },
   "file_extension": ".py",
   "mimetype": "text/x-python",
   "name": "python",
   "nbconvert_exporter": "python",
   "pygments_lexer": "ipython3",
   "version": "3.9.18"
  },
  "orig_nbformat": 4
 },
 "nbformat": 4,
 "nbformat_minor": 2
}
