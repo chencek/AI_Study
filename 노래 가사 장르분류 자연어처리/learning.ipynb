{
 "cells": [
  {
   "cell_type": "code",
   "execution_count": 228,
   "metadata": {},
   "outputs": [],
   "source": [
    "import pandas as pd\n",
    "from sklearn.model_selection import train_test_split\n",
    "from sklearn.feature_extraction.text import TfidfVectorizer\n",
    "from sklearn.linear_model import LogisticRegression\n",
    "from sklearn.metrics import accuracy_score, classification_report"
   ]
  },
  {
   "cell_type": "code",
   "execution_count": 229,
   "metadata": {},
   "outputs": [],
   "source": [
    "df1 = pd.read_csv('댄스1.csv', encoding='utf-8')\n",
    "df2 = pd.read_csv('발라드.csv', encoding='utf-8')\n",
    "df3 = pd.read_csv('트로트.csv', encoding='utf-8')\n",
    "df4 = pd.read_csv('힙합.csv', encoding='utf-8')"
   ]
  },
  {
   "cell_type": "code",
   "execution_count": 230,
   "metadata": {},
   "outputs": [
    {
     "data": {
      "text/html": [
       "<div>\n",
       "<style scoped>\n",
       "    .dataframe tbody tr th:only-of-type {\n",
       "        vertical-align: middle;\n",
       "    }\n",
       "\n",
       "    .dataframe tbody tr th {\n",
       "        vertical-align: top;\n",
       "    }\n",
       "\n",
       "    .dataframe thead th {\n",
       "        text-align: right;\n",
       "    }\n",
       "</style>\n",
       "<table border=\"1\" class=\"dataframe\">\n",
       "  <thead>\n",
       "    <tr style=\"text-align: right;\">\n",
       "      <th></th>\n",
       "      <th>data</th>\n",
       "      <th>label</th>\n",
       "    </tr>\n",
       "  </thead>\n",
       "  <tbody>\n",
       "    <tr>\n",
       "      <th>0</th>\n",
       "      <td>GA GA GA GA GA GODS GA GA GA GA GA GODS ey Thi...</td>\n",
       "      <td>댄스</td>\n",
       "    </tr>\n",
       "    <tr>\n",
       "      <th>1</th>\n",
       "      <td>Get Up Cause I know it s now or never Get Up N...</td>\n",
       "      <td>댄스</td>\n",
       "    </tr>\n",
       "    <tr>\n",
       "      <th>2</th>\n",
       "      <td>오늘 따라 더운 날씨 잠 못 이뤄 뒤척 다가 하늘 뜬 달 그려진 그때 우리 문득 떠...</td>\n",
       "      <td>댄스</td>\n",
       "    </tr>\n",
       "    <tr>\n",
       "      <th>3</th>\n",
       "      <td>자꾸 깜짝 놀라 엉뚱한 너 엉뚱한 그런 말투 나를 보는 시선 가끔 실수 실수 너 손...</td>\n",
       "      <td>댄스</td>\n",
       "    </tr>\n",
       "    <tr>\n",
       "      <th>4</th>\n",
       "      <td>Don t forget love 바쁘다고 마음 숨기진 말 자구 가끔 심란해져도 Oh...</td>\n",
       "      <td>댄스</td>\n",
       "    </tr>\n",
       "    <tr>\n",
       "      <th>...</th>\n",
       "      <td>...</td>\n",
       "      <td>...</td>\n",
       "    </tr>\n",
       "    <tr>\n",
       "      <th>4109</th>\n",
       "      <td>안녕하세요 반갑습니다 People call me Super Korean 실례 합니다...</td>\n",
       "      <td>힙합</td>\n",
       "    </tr>\n",
       "    <tr>\n",
       "      <th>4110</th>\n",
       "      <td>i m falling in love 한여름 밤 바람 불어오는 좋은 속삭임 설렘 가득...</td>\n",
       "      <td>힙합</td>\n",
       "    </tr>\n",
       "    <tr>\n",
       "      <th>4111</th>\n",
       "      <td>한여름 밤 바람 불어오는 좋은 속삭임 설렘 가득한 이 느낌 cuz L O V E 들...</td>\n",
       "      <td>힙합</td>\n",
       "    </tr>\n",
       "    <tr>\n",
       "      <th>4112</th>\n",
       "      <td>한여름 밤 바람 불어오는 좋은 속삭임 설렘 가득한 이 느낌 cuz L O V E 들...</td>\n",
       "      <td>힙합</td>\n",
       "    </tr>\n",
       "    <tr>\n",
       "      <th>4113</th>\n",
       "      <td>Used to be like this Natural harm inside our s...</td>\n",
       "      <td>힙합</td>\n",
       "    </tr>\n",
       "  </tbody>\n",
       "</table>\n",
       "<p>4114 rows × 2 columns</p>\n",
       "</div>"
      ],
      "text/plain": [
       "                                                   data label\n",
       "0     GA GA GA GA GA GODS GA GA GA GA GA GODS ey Thi...    댄스\n",
       "1     Get Up Cause I know it s now or never Get Up N...    댄스\n",
       "2     오늘 따라 더운 날씨 잠 못 이뤄 뒤척 다가 하늘 뜬 달 그려진 그때 우리 문득 떠...    댄스\n",
       "3     자꾸 깜짝 놀라 엉뚱한 너 엉뚱한 그런 말투 나를 보는 시선 가끔 실수 실수 너 손...    댄스\n",
       "4     Don t forget love 바쁘다고 마음 숨기진 말 자구 가끔 심란해져도 Oh...    댄스\n",
       "...                                                 ...   ...\n",
       "4109  안녕하세요 반갑습니다 People call me Super Korean 실례 합니다...    힙합\n",
       "4110  i m falling in love 한여름 밤 바람 불어오는 좋은 속삭임 설렘 가득...    힙합\n",
       "4111  한여름 밤 바람 불어오는 좋은 속삭임 설렘 가득한 이 느낌 cuz L O V E 들...    힙합\n",
       "4112  한여름 밤 바람 불어오는 좋은 속삭임 설렘 가득한 이 느낌 cuz L O V E 들...    힙합\n",
       "4113  Used to be like this Natural harm inside our s...    힙합\n",
       "\n",
       "[4114 rows x 2 columns]"
      ]
     },
     "execution_count": 230,
     "metadata": {},
     "output_type": "execute_result"
    }
   ],
   "source": [
    "df = pd.concat([df1,df2,df3,df4],ignore_index=True)\n",
    "df"
   ]
  },
  {
   "cell_type": "code",
   "execution_count": 231,
   "metadata": {},
   "outputs": [
    {
     "name": "stdout",
     "output_type": "stream",
     "text": [
      "[[1.         0.05081512 0.00175028 ... 0.00180088 0.00720807 0.04847361]\n",
      " [0.05081512 1.         0.         ... 0.0062481  0.01696196 0.09903828]\n",
      " [0.00175028 0.         1.         ... 0.00887937 0.01156448 0.01506359]\n",
      " ...\n",
      " [0.00180088 0.0062481  0.00887937 ... 1.         0.80222589 0.00834825]\n",
      " [0.00720807 0.01696196 0.01156448 ... 0.80222589 1.         0.01603248]\n",
      " [0.04847361 0.09903828 0.01506359 ... 0.00834825 0.01603248 1.        ]]\n"
     ]
    }
   ],
   "source": [
    "from sklearn.feature_extraction.text import TfidfVectorizer\n",
    "from sklearn.metrics.pairwise import cosine_similarity\n",
    "\n",
    "lyrics = df['data']\n",
    "\n",
    "tfidf_vectorizer = TfidfVectorizer()\n",
    "tfidf_matrix = tfidf_vectorizer.fit_transform(lyrics)\n",
    "\n",
    "cosine_sim = cosine_similarity(tfidf_matrix, tfidf_matrix)\n",
    "\n",
    "print(cosine_sim)"
   ]
  },
  {
   "cell_type": "code",
   "execution_count": 232,
   "metadata": {},
   "outputs": [],
   "source": [
    "from sklearn.model_selection import train_test_split\n",
    "from sklearn.linear_model import LogisticRegression\n",
    "from sklearn.metrics import accuracy_score, classification_report"
   ]
  },
  {
   "cell_type": "code",
   "execution_count": 233,
   "metadata": {},
   "outputs": [],
   "source": [
    "train_df, temp_df = train_test_split(df, test_size=0.2, random_state=42)\n",
    "valid_df, test_df = train_test_split(temp_df, test_size=0.5, random_state=42)\n",
    "\n",
    "X_train = train_df['data'].values\n",
    "X_valid = valid_df['data'].values\n",
    "X_test = test_df['data'].values\n",
    "\n",
    "y_train = train_df['label'].values\n",
    "y_valid = valid_df['label'].values\n",
    "y_test = test_df['label'].values"
   ]
  },
  {
   "cell_type": "code",
   "execution_count": 234,
   "metadata": {},
   "outputs": [],
   "source": [
    "tfidf_vectorizer = TfidfVectorizer(max_features=10000)\n",
    "X_train_tfidf = tfidf_vectorizer.fit_transform(X_train)\n",
    "X_valid_tfidf = tfidf_vectorizer.transform(X_valid)\n",
    "X_test_tfidf = tfidf_vectorizer.transform(X_test)"
   ]
  },
  {
   "cell_type": "code",
   "execution_count": 235,
   "metadata": {},
   "outputs": [
    {
     "name": "stdout",
     "output_type": "stream",
     "text": [
      "Validation Accuracy: 0.805352798053528\n",
      "Test Accuracy: 0.7839805825242718\n"
     ]
    }
   ],
   "source": [
    "clf = LogisticRegression()\n",
    "clf.fit(X_train_tfidf, y_train)\n",
    "\n",
    "valid_preds = clf.predict(X_valid_tfidf)\n",
    "accuracy = accuracy_score(y_valid, valid_preds)\n",
    "print(f'Validation Accuracy: {accuracy}')\n",
    "test_preds = clf.predict(X_test_tfidf)\n",
    "accuracy = accuracy_score(y_test, test_preds)\n",
    "print(f'Test Accuracy: {accuracy}')"
   ]
  },
  {
   "cell_type": "code",
   "execution_count": 236,
   "metadata": {},
   "outputs": [
    {
     "name": "stdout",
     "output_type": "stream",
     "text": [
      "Test Accuracy: 0.7839805825242718\n",
      "              precision    recall  f1-score   support\n",
      "\n",
      "          댄스       0.79      0.63      0.70       108\n",
      "         발라드       0.70      0.84      0.76        87\n",
      "         트로트       0.95      0.95      0.95        98\n",
      "          힙합       0.79      0.82      0.80       118\n",
      "\n",
      "    accuracy                           0.81       411\n",
      "   macro avg       0.81      0.81      0.80       411\n",
      "weighted avg       0.81      0.81      0.80       411\n",
      "\n",
      "              precision    recall  f1-score   support\n",
      "\n",
      "          댄스       0.74      0.59      0.66        98\n",
      "         발라드       0.78      0.81      0.79       124\n",
      "         트로트       0.90      0.90      0.90        92\n",
      "          힙합       0.72      0.84      0.77        98\n",
      "\n",
      "    accuracy                           0.78       412\n",
      "   macro avg       0.79      0.78      0.78       412\n",
      "weighted avg       0.78      0.78      0.78       412\n",
      "\n"
     ]
    }
   ],
   "source": [
    "test_preds = clf.predict(X_test_tfidf)\n",
    "accuracy = accuracy_score(y_test, test_preds)\n",
    "print(f'Test Accuracy: {accuracy}')\n",
    "print(classification_report(y_valid, valid_preds))\n",
    "print(classification_report(y_test, test_preds))"
   ]
  },
  {
   "cell_type": "code",
   "execution_count": 237,
   "metadata": {},
   "outputs": [],
   "source": [
    "new_lyrics = [\"\"\"전라도와 경상도를 가로지르는\n",
    "섬진강 줄기 따라 화개장터엔\n",
    "아랫마을 하동 사람\n",
    "윗마을 구례 사람\n",
    "닷새마다 어우러져 장을 펼치네\n",
    "구경 한 번 와 보세요\n",
    "보기엔 그냥 시골 장터지만\n",
    "있어야 할 건 다 있구요\n",
    "없을 건 없답니다 화개장터\n",
    "광양에선 삐걱삐걱 나룻배 타고\n",
    "산청에선 부릉부릉 버스를 타고\n",
    "사투리 잡담에다 입씨름 흥정이\n",
    "오손도손 왁자지껄 장을 펼치네\n",
    "구경 한 번 와 보세요\n",
    "오시면 모두 모두 이웃 사촌\n",
    "고운 정 미운 정 주고 받는\n",
    "경상도 전라도의 화개장터\n",
    "구경 한 번 와 보세요\n",
    "오시면 모두 모두 이웃 사촌\n",
    "고운 정 미운 정 주고 받는\n",
    "경상도 전라도의 화개장터\n",
    "랄랄랄라 랄랄랄라\n",
    "라랄라랄랄라라 랄랄랄라\n",
    "랄랄랄라 랄랄랄라\n",
    "경상도 전라도의 화개장터\n",
    "구경 한 번 와 보세요\n",
    "보기엔 그냥 시골 장터지만\n",
    "있어야 할 건 다 있구요\n",
    "없을 건 없답니다 화개장터\n",
    "구경 한 번 와 보세요\n",
    "보기엔 그냥 시골 장터지만\n",
    "있어야 할 건 다 있구요\n",
    "없을 건 없답니다\n",
    "구경 한 번 와 보세요\n",
    "보기엔 그냥 시골 장터지만\n",
    "있어야 할 건 다 있구요\n",
    "없을 건 없답니다\n",
    "구경 한 번 와 보세요\n",
    "오시면 모두 모두 이웃사촌\n",
    "고운 정 미운 정 주고 받는\n",
    "경상도 전라도의 화개장터\"\"\"]"
   ]
  },
  {
   "cell_type": "code",
   "execution_count": 238,
   "metadata": {},
   "outputs": [],
   "source": [
    "new_lyrics_tfidf = tfidf_vectorizer.transform(new_lyrics)"
   ]
  },
  {
   "cell_type": "code",
   "execution_count": 239,
   "metadata": {},
   "outputs": [
    {
     "name": "stdout",
     "output_type": "stream",
     "text": [
      "Predicted Genre: 발라드\n"
     ]
    }
   ],
   "source": [
    "predicted_genre = clf.predict(new_lyrics_tfidf)\n",
    "\n",
    "print(f\"Predicted Genre: {predicted_genre[0]}\")"
   ]
  },
  {
   "cell_type": "code",
   "execution_count": 240,
   "metadata": {},
   "outputs": [
    {
     "name": "stdout",
     "output_type": "stream",
     "text": [
      "발라드: 78.05%\n",
      "트로트: 9.68%\n",
      "댄스: 6.45%\n",
      "힙합: 5.82%\n",
      "예상 장르: 발라드\n"
     ]
    }
   ],
   "source": [
    "predicted_probabilities = clf.predict_proba(new_lyrics_tfidf)\n",
    "\n",
    "genre_probabilities = {}\n",
    "for genre_idx, genre in enumerate(clf.classes_):\n",
    "    probability = predicted_probabilities[0][genre_idx]\n",
    "    genre_probabilities[genre] = probability\n",
    "\n",
    "sorted_probabilities = sorted(genre_probabilities.items(), key=lambda x: x[1], reverse=True)\n",
    "\n",
    "top_n = 4\n",
    "for genre, probability in sorted_probabilities[:top_n]:\n",
    "    print(f\"{genre}: {probability * 100:.2f}%\")\n",
    "\n",
    "print(f\"예상 장르: {predicted_genre[0]}\")"
   ]
  },
  {
   "cell_type": "code",
   "execution_count": 241,
   "metadata": {},
   "outputs": [],
   "source": [
    "lyrics_data = df['data'].values"
   ]
  },
  {
   "cell_type": "code",
   "execution_count": 242,
   "metadata": {},
   "outputs": [],
   "source": [
    "# TF-IDF 벡터화\n",
    "tfidf_vectorizer = TfidfVectorizer(max_features=10000)  # 최대 특성 수 설정\n",
    "tfidf_matrix = tfidf_vectorizer.fit_transform(lyrics_data)"
   ]
  },
  {
   "cell_type": "code",
   "execution_count": 243,
   "metadata": {},
   "outputs": [
    {
     "name": "stdout",
     "output_type": "stream",
     "text": [
      "가장 유사한 가사:\n",
      "제발 나를 보아 고개 들어 웃음 보여요 그대 슬픔 보이 보낼 수 없잖아 웃으며 나를 떠나가줘요 왜 이제야 떠나는 거 고 원망하며 붙잡지 않을게 그대 날 잊어버리고 행복할 수 있게 나 먼저 그대 돌아설게 잊지 할 것 같아 그대 지워야만 해 젠 그대 위 선택 정말 사랑 했다면 나 좋은 사람 만나기를 바 못 한 사랑 위해 미안하다 말 하지 말아요 했던 수많은 추억 버리고 만나도 모르는 것 나 먼저 그대 외면 할게 잊지 할 것 같아 그대 지워야만 해 젠 그대 위 선택 정말 사랑 했다면 나 좋은 사람 만나기를 바 못 한 사랑 위해 내 마지막 바람\n",
      "유사도: 0.25\n"
     ]
    }
   ],
   "source": [
    "new_lyrics_tfidf = tfidf_vectorizer.transform(new_lyrics)\n",
    "\n",
    "# 유사도 계산\n",
    "similarities = cosine_similarity(new_lyrics_tfidf, tfidf_matrix)\n",
    "\n",
    "# 유사도가 가장 높은 가사 찾기\n",
    "most_similar_index = similarities.argmax()\n",
    "\n",
    "# 가장 유사한 가사와 유사도 출력\n",
    "most_similar_lyrics = lyrics_data[most_similar_index]\n",
    "similarity_score = similarities[0, most_similar_index]\n",
    "\n",
    "print(f\"가장 유사한 가사:\\n{most_similar_lyrics}\")\n",
    "print(f\"유사도: {similarity_score:.2f}\")"
   ]
  },
  {
   "cell_type": "code",
   "execution_count": 244,
   "metadata": {},
   "outputs": [
    {
     "name": "stdout",
     "output_type": "stream",
     "text": [
      "Genre: 댄스\n",
      "가장 유사한 가사:\n",
      "사실 매운 음식 먹어 사실 해산물 싫어해 사실 술 한잔 마셔 그런 말 했지 사실 사람 많은 곳 싫어 사실 공포영화 봐 사실 놀이기구 무서워 그런 말 했지 사실 말 너 너 사랑 해서 나 나 나 나 너 보여 Baby 다른건 안보 나 그래 Oh my love 우리 말 언제 서로 마음 숨겨야해 어제 오늘 내일 마 져도 절대 말 할수 없어 우린 그래 Forever 오늘 너 집앞 갔어 내일 너 회사 갈께 너 나 마음 모른 채 항상 모른 척해 오늘 너 그녀 왔어 곁 떠나 달라 나 그럴수 없어 너 사랑 는걸 사실 말 너 너 사랑 해서 나 나 나 나 너 보여 Baby 다른건 안보 나 그래 Oh my love 우리 말 언제 서로 마음 숨겨야해 어제 오늘 내일 마 져도 절대 말 할수 없어 우린 그래 Forever\n",
      "유사도: 0.16\n",
      "--------------------\n",
      "Genre: 발라드\n",
      "가장 유사한 가사:\n",
      "제발 나를 보아 고개 들어 웃음 보여요 그대 슬픔 보이 보낼 수 없잖아 웃으며 나를 떠나가줘요 왜 이제야 떠나는 거 고 원망하며 붙잡지 않을게 그대 날 잊어버리고 행복할 수 있게 나 먼저 그대 돌아설게 잊지 할 것 같아 그대 지워야만 해 젠 그대 위 선택 정말 사랑 했다면 나 좋은 사람 만나기를 바 못 한 사랑 위해 미안하다 말 하지 말아요 했던 수많은 추억 버리고 만나도 모르는 것 나 먼저 그대 외면 할게 잊지 할 것 같아 그대 지워야만 해 젠 그대 위 선택 정말 사랑 했다면 나 좋은 사람 만나기를 바 못 한 사랑 위해 내 마지막 바람\n",
      "유사도: 0.25\n",
      "--------------------\n",
      "Genre: 트로트\n",
      "가장 유사한 가사:\n",
      "힘 들던 날 꽃 되어 별 되어 내게로 다가온 당신 소리 내어 울 싶던 날 운명 연인 내게 온 선물 그대 없인 나도 없었고 그대 있어 나도 있네요 꿈 꾸듯 그대 걸어갈게요 하늘 저 구름 참 좋은 날 그 날 우리 만난 날 또 시련 우릴 막을지라도 우리 밝게 빛날 그 날 두 손 꼭 잡고 걸어갈게요 우리 약속 해 그대 없인 숨 쉴 수 없고 그대 있어 내 사네요 평생토록 그대만 지켜줄게요 해 되어 저 달이 되어 참 좋은 날 그 날 우리 만난 날 또 시련 우릴 막을지라도 우리 밝게 빛날 그 날 두 손 꼭 잡고 걸어갈게요 우리 약속 해 수많은 계절 피고 또 저물어가도 그대만 영원히 내 사랑 걸 참 좋은 날 그 멋진 날 눈부신 그날 가슴 아린 슬픔 모두 잊어버려요 우리 웃 수 있게 그대 손 절대 놓치지 않을게요 내 그 댈 지킬게요 참 좋은 날 입니다\n",
      "유사도: 0.21\n",
      "--------------------\n",
      "Genre: 힙합\n",
      "가장 유사한 가사:\n",
      "Do you remember that day 주위 아무 없을 때 우리 위해 땀 흘렸던 그대 when I was a kid 당연해 보였어 받을줄만 아는 나 바보 였어 보였어 그대 노력 어딘가 숨어있던 나 또 울고있어 아무런 도움 되지못해 오늘 아무렇지도 않아 보여 그 댄 오늘 아물어질 수 없는 상처 보아 난 줄 수 있는게 하나 없어 바꿀 수 있는게 없어서 초라해져가는 날 보며 그대 하고 있다고 말 해준게 그리워서 아프지 않기만 하라 그대 바라지 않네 그 어떠한 대가 I Love you forever in my heart 고생 했어 그동안 내 부족한데도 I never forget Promise you 보고싶어도 참아 볼 그대 그대로 남아있을게 기억나 눈가 밑 그 주름 나를 보며 환하게 지어 줬던 웃음 내 걸음 걸음 담겨있던 그대 피 눈물 내게 피 되고 살이 되는 중이 것 하지마 내 해줄테니까 말 하고싶지만 작아지는 내 지갑 무거웠을텐데 혼자 서는 버거웠을텐데 해줄 걸 조금 더 해줄 걸 귀찮았어도 목욕 가줄 걸 한번 더 안아줄 걸 사랑 한다 해줄 걸 매일 걸려오는 전화 받을걸 항상 내 뒤 있던 그대 오늘 따라 그리워서 항상 커 보이기만 하던 그대 손 가려져 젠 질 내 I Love you forever in my heart 고생 했어 그동안 내 부족한데도 I never forget Promise you 보고싶어도 참아 볼 그대 그대로 남아있을게\n",
      "유사도: 0.15\n",
      "--------------------\n"
     ]
    }
   ],
   "source": [
    "\n",
    "lyrics_data = df['data'].values\n",
    "\n",
    "genres = df['label'].values\n",
    "\n",
    "unique_genres = df['label'].unique()\n",
    "\n",
    "# TF-IDF 벡터화\n",
    "tfidf_vectorizer = TfidfVectorizer(max_features=10000)  # 최대 특성 수 설정\n",
    "tfidf_matrix = tfidf_vectorizer.fit_transform(lyrics_data)\n",
    "\n",
    "# 새로운 가사를 TF-IDF 벡터로 변환\n",
    "new_lyrics_tfidf = tfidf_vectorizer.transform(new_lyrics)\n",
    "\n",
    "# 각 장르에 대한 유사도 계산 및 출력\n",
    "for genre in unique_genres:\n",
    "    # 해당 장르의 가사만 선택\n",
    "    genre_lyrics = lyrics_data[genres == genre]\n",
    "    genre_tfidf_matrix = tfidf_matrix[genres == genre]\n",
    "\n",
    "    # 유사도 계산\n",
    "    similarities = cosine_similarity(new_lyrics_tfidf, genre_tfidf_matrix)\n",
    "\n",
    "    # 가장 유사한 가사와 유사도 출력\n",
    "    most_similar_index = similarities.argmax()\n",
    "    most_similar_lyrics = genre_lyrics[most_similar_index]\n",
    "    similarity_score = similarities[0, most_similar_index]\n",
    "\n",
    "    print(f\"Genre: {genre}\")\n",
    "    print(f\"가장 유사한 가사:\\n{most_similar_lyrics}\")\n",
    "    print(f\"유사도: {similarity_score:.2f}\")\n",
    "    print(\"--------------------\")"
   ]
  },
  {
   "cell_type": "code",
   "execution_count": null,
   "metadata": {},
   "outputs": [],
   "source": []
  }
 ],
 "metadata": {
  "kernelspec": {
   "display_name": "MY_PYTHON",
   "language": "python",
   "name": "python3"
  },
  "language_info": {
   "codemirror_mode": {
    "name": "ipython",
    "version": 3
   },
   "file_extension": ".py",
   "mimetype": "text/x-python",
   "name": "python",
   "nbconvert_exporter": "python",
   "pygments_lexer": "ipython3",
   "version": "3.9.18"
  },
  "orig_nbformat": 4
 },
 "nbformat": 4,
 "nbformat_minor": 2
}
