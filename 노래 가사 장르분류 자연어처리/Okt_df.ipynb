{
 "cells": [
  {
   "cell_type": "code",
   "execution_count": 3,
   "metadata": {},
   "outputs": [],
   "source": [
    "import time\n",
    "from selenium import webdriver\n",
    "from bs4 import BeautifulSoup\n",
    "import pandas as pd\n",
    "import numpy as np\n",
    "import re\n",
    "from tqdm import tqdm\n"
   ]
  },
  {
   "cell_type": "code",
   "execution_count": 4,
   "metadata": {},
   "outputs": [],
   "source": [
    "df = pd.read_excel('./song_lyrics.xlsx')\n",
    "df.dropna(axis=0,inplace=True)\n",
    "df['label']='댄스'"
   ]
  },
  {
   "cell_type": "code",
   "execution_count": 5,
   "metadata": {},
   "outputs": [],
   "source": [
    "df= df[['가사','label']]\n",
    "df.columns=['data','label']"
   ]
  },
  {
   "cell_type": "code",
   "execution_count": 6,
   "metadata": {},
   "outputs": [
    {
     "data": {
      "text/html": [
       "<div>\n",
       "<style scoped>\n",
       "    .dataframe tbody tr th:only-of-type {\n",
       "        vertical-align: middle;\n",
       "    }\n",
       "\n",
       "    .dataframe tbody tr th {\n",
       "        vertical-align: top;\n",
       "    }\n",
       "\n",
       "    .dataframe thead th {\n",
       "        text-align: right;\n",
       "    }\n",
       "</style>\n",
       "<table border=\"1\" class=\"dataframe\">\n",
       "  <thead>\n",
       "    <tr style=\"text-align: right;\">\n",
       "      <th></th>\n",
       "      <th>data</th>\n",
       "      <th>label</th>\n",
       "    </tr>\n",
       "  </thead>\n",
       "  <tbody>\n",
       "    <tr>\n",
       "      <th>0</th>\n",
       "      <td>GA-GA-GA-GA-GA-GODS GA-GA-GA-GA-GA-GODS (’ey) ...</td>\n",
       "      <td>댄스</td>\n",
       "    </tr>\n",
       "    <tr>\n",
       "      <th>1</th>\n",
       "      <td>Get Up  Cause I know it's now or never Get Up ...</td>\n",
       "      <td>댄스</td>\n",
       "    </tr>\n",
       "    <tr>\n",
       "      <th>2</th>\n",
       "      <td>오늘따라 더운 날씨에 잠 못 이뤄 뒤척이다가 하늘에 뜬 달에 그려진 그때 우리 문득...</td>\n",
       "      <td>댄스</td>\n",
       "    </tr>\n",
       "    <tr>\n",
       "      <th>3</th>\n",
       "      <td>자꾸 깜짝 놀라 엉뚱한 너의 (엉뚱한) 그런 말투도 나를 보는 시선도 가끔은 실수로...</td>\n",
       "      <td>댄스</td>\n",
       "    </tr>\n",
       "    <tr>\n",
       "      <th>4</th>\n",
       "      <td>Don't forget love 아무리 바쁘다고 마음을 숨기진 말자구 가끔은 심란해...</td>\n",
       "      <td>댄스</td>\n",
       "    </tr>\n",
       "    <tr>\n",
       "      <th>...</th>\n",
       "      <td>...</td>\n",
       "      <td>...</td>\n",
       "    </tr>\n",
       "    <tr>\n",
       "      <th>1047</th>\n",
       "      <td>서로를 바라보는 눈빛 너무 아름다워 하염없이 빛나는 너의 곁에 살며시 스며들고 싶어...</td>\n",
       "      <td>댄스</td>\n",
       "    </tr>\n",
       "    <tr>\n",
       "      <th>1048</th>\n",
       "      <td>Get down with the dancing Let's get it on foll...</td>\n",
       "      <td>댄스</td>\n",
       "    </tr>\n",
       "    <tr>\n",
       "      <th>1049</th>\n",
       "      <td>백만 불짜리 미소이긴 하지만 I don’t want to lie 웃지 않는다고 사랑...</td>\n",
       "      <td>댄스</td>\n",
       "    </tr>\n",
       "    <tr>\n",
       "      <th>1050</th>\n",
       "      <td>다들 내게 말하지 내 미소는 아픔을 모르는 봄꽃 같다고 나도 몰라 아마도 내 입가엔...</td>\n",
       "      <td>댄스</td>\n",
       "    </tr>\n",
       "    <tr>\n",
       "      <th>1051</th>\n",
       "      <td>시작해 시작해 Pop in Music 답답한 마음을 전부 다 접어서 넘겨버릴수있게 ...</td>\n",
       "      <td>댄스</td>\n",
       "    </tr>\n",
       "  </tbody>\n",
       "</table>\n",
       "<p>949 rows × 2 columns</p>\n",
       "</div>"
      ],
      "text/plain": [
       "                                                   data label\n",
       "0     GA-GA-GA-GA-GA-GODS GA-GA-GA-GA-GA-GODS (’ey) ...    댄스\n",
       "1     Get Up  Cause I know it's now or never Get Up ...    댄스\n",
       "2     오늘따라 더운 날씨에 잠 못 이뤄 뒤척이다가 하늘에 뜬 달에 그려진 그때 우리 문득...    댄스\n",
       "3     자꾸 깜짝 놀라 엉뚱한 너의 (엉뚱한) 그런 말투도 나를 보는 시선도 가끔은 실수로...    댄스\n",
       "4     Don't forget love 아무리 바쁘다고 마음을 숨기진 말자구 가끔은 심란해...    댄스\n",
       "...                                                 ...   ...\n",
       "1047  서로를 바라보는 눈빛 너무 아름다워 하염없이 빛나는 너의 곁에 살며시 스며들고 싶어...    댄스\n",
       "1048  Get down with the dancing Let's get it on foll...    댄스\n",
       "1049  백만 불짜리 미소이긴 하지만 I don’t want to lie 웃지 않는다고 사랑...    댄스\n",
       "1050  다들 내게 말하지 내 미소는 아픔을 모르는 봄꽃 같다고 나도 몰라 아마도 내 입가엔...    댄스\n",
       "1051  시작해 시작해 Pop in Music 답답한 마음을 전부 다 접어서 넘겨버릴수있게 ...    댄스\n",
       "\n",
       "[949 rows x 2 columns]"
      ]
     },
     "execution_count": 6,
     "metadata": {},
     "output_type": "execute_result"
    }
   ],
   "source": [
    "df"
   ]
  },
  {
   "cell_type": "code",
   "execution_count": 8,
   "metadata": {},
   "outputs": [
    {
     "name": "stderr",
     "output_type": "stream",
     "text": [
      "100%|██████████| 949/949 [00:10<00:00, 90.57it/s] \n"
     ]
    }
   ],
   "source": [
    "from konlpy.tag import Okt\n",
    "\n",
    "okt = Okt()\n",
    "\n",
    "word_list = []\n",
    "\n",
    "for line in tqdm(df['data']):\n",
    "    words = []\n",
    "    for w,t in okt.pos(line):\n",
    "        if t in [,'Verb','Adjective']:\n",
    "            words.append(w)\n",
    "        elif (t == 'Punctuation') and ('*' in w):\n",
    "            words.append(w)\n",
    "        \n",
    "    sent = ' '.join(words)\n",
    "    word_list.append(sent)\n",
    "\n",
    "result = pd.DataFrame(word_list, columns=['data'])\n",
    "result['label'] = '댄스'"
   ]
  },
  {
   "cell_type": "code",
   "execution_count": 12,
   "metadata": {},
   "outputs": [
    {
     "data": {
      "text/html": [
       "<div>\n",
       "<style scoped>\n",
       "    .dataframe tbody tr th:only-of-type {\n",
       "        vertical-align: middle;\n",
       "    }\n",
       "\n",
       "    .dataframe tbody tr th {\n",
       "        vertical-align: top;\n",
       "    }\n",
       "\n",
       "    .dataframe thead th {\n",
       "        text-align: right;\n",
       "    }\n",
       "</style>\n",
       "<table border=\"1\" class=\"dataframe\">\n",
       "  <thead>\n",
       "    <tr style=\"text-align: right;\">\n",
       "      <th></th>\n",
       "      <th>data</th>\n",
       "      <th>label</th>\n",
       "    </tr>\n",
       "  </thead>\n",
       "  <tbody>\n",
       "    <tr>\n",
       "      <th>0</th>\n",
       "      <td>GA GA GA GA GA GODS GA GA GA GA GA GODS ey Thi...</td>\n",
       "      <td>댄스</td>\n",
       "    </tr>\n",
       "    <tr>\n",
       "      <th>1</th>\n",
       "      <td>Get Up Cause I know it s now or never Get Up N...</td>\n",
       "      <td>댄스</td>\n",
       "    </tr>\n",
       "    <tr>\n",
       "      <th>2</th>\n",
       "      <td>오늘 따라 더운 날씨 잠 못 이뤄 뒤척 다가 하늘 뜬 달 그려진 그때 우리 문득 떠...</td>\n",
       "      <td>댄스</td>\n",
       "    </tr>\n",
       "    <tr>\n",
       "      <th>3</th>\n",
       "      <td>자꾸 깜짝 놀라 엉뚱한 너 엉뚱한 그런 말투 나를 보는 시선 가끔 실수 실수 너 손...</td>\n",
       "      <td>댄스</td>\n",
       "    </tr>\n",
       "    <tr>\n",
       "      <th>4</th>\n",
       "      <td>Don t forget love 바쁘다고 마음 숨기진 말 자구 가끔 심란해져도 Oh...</td>\n",
       "      <td>댄스</td>\n",
       "    </tr>\n",
       "    <tr>\n",
       "      <th>...</th>\n",
       "      <td>...</td>\n",
       "      <td>...</td>\n",
       "    </tr>\n",
       "    <tr>\n",
       "      <th>944</th>\n",
       "      <td>서로 바라보는 눈빛 아름다워 빛나는 너 곁 스며들고 싶어 Can I be a par...</td>\n",
       "      <td>댄스</td>\n",
       "    </tr>\n",
       "    <tr>\n",
       "      <th>945</th>\n",
       "      <td>Get down with the dancing Let s get it on foll...</td>\n",
       "      <td>댄스</td>\n",
       "    </tr>\n",
       "    <tr>\n",
       "      <th>946</th>\n",
       "      <td>백만 불 짜리 미소 이긴 I don t want to lie 웃지 않는다고 사랑 하...</td>\n",
       "      <td>댄스</td>\n",
       "    </tr>\n",
       "    <tr>\n",
       "      <th>947</th>\n",
       "      <td>들 내게 말 하지 내 미소 아픔 모르는 봄꽃 같다고 나도 몰라 내 입가 가시 껴안은...</td>\n",
       "      <td>댄스</td>\n",
       "    </tr>\n",
       "    <tr>\n",
       "      <th>948</th>\n",
       "      <td>시작 해 시작 해 Pop in Music 답답한 마음 전부 접어서 넘겨 버릴수있게 ...</td>\n",
       "      <td>댄스</td>\n",
       "    </tr>\n",
       "  </tbody>\n",
       "</table>\n",
       "<p>949 rows × 2 columns</p>\n",
       "</div>"
      ],
      "text/plain": [
       "                                                  data label\n",
       "0    GA GA GA GA GA GODS GA GA GA GA GA GODS ey Thi...    댄스\n",
       "1    Get Up Cause I know it s now or never Get Up N...    댄스\n",
       "2    오늘 따라 더운 날씨 잠 못 이뤄 뒤척 다가 하늘 뜬 달 그려진 그때 우리 문득 떠...    댄스\n",
       "3    자꾸 깜짝 놀라 엉뚱한 너 엉뚱한 그런 말투 나를 보는 시선 가끔 실수 실수 너 손...    댄스\n",
       "4    Don t forget love 바쁘다고 마음 숨기진 말 자구 가끔 심란해져도 Oh...    댄스\n",
       "..                                                 ...   ...\n",
       "944  서로 바라보는 눈빛 아름다워 빛나는 너 곁 스며들고 싶어 Can I be a par...    댄스\n",
       "945  Get down with the dancing Let s get it on foll...    댄스\n",
       "946  백만 불 짜리 미소 이긴 I don t want to lie 웃지 않는다고 사랑 하...    댄스\n",
       "947  들 내게 말 하지 내 미소 아픔 모르는 봄꽃 같다고 나도 몰라 내 입가 가시 껴안은...    댄스\n",
       "948  시작 해 시작 해 Pop in Music 답답한 마음 전부 접어서 넘겨 버릴수있게 ...    댄스\n",
       "\n",
       "[949 rows x 2 columns]"
      ]
     },
     "execution_count": 12,
     "metadata": {},
     "output_type": "execute_result"
    }
   ],
   "source": [
    "result"
   ]
  },
  {
   "cell_type": "code",
   "execution_count": 14,
   "metadata": {},
   "outputs": [],
   "source": [
    "result.to_csv('./댄스1.csv', encoding='utf-8', index=False)"
   ]
  },
  {
   "cell_type": "code",
   "execution_count": null,
   "metadata": {},
   "outputs": [],
   "source": []
  },
  {
   "cell_type": "code",
   "execution_count": null,
   "metadata": {},
   "outputs": [],
   "source": []
  },
  {
   "cell_type": "code",
   "execution_count": 37,
   "metadata": {},
   "outputs": [],
   "source": [
    "df.to_excel('last_lyrics.xlsx')"
   ]
  },
  {
   "cell_type": "code",
   "execution_count": 39,
   "metadata": {},
   "outputs": [],
   "source": [
    "from konlpy.tag import Okt\n",
    "\n",
    "okt = Okt()"
   ]
  },
  {
   "cell_type": "code",
   "execution_count": 73,
   "metadata": {},
   "outputs": [],
   "source": [
    "df = df[['data','label']]\n",
    "df.to_csv('댄스.csv')"
   ]
  },
  {
   "cell_type": "code",
   "execution_count": 81,
   "metadata": {},
   "outputs": [],
   "source": [
    "df = df[['data','label']]\n",
    "df.to_csv('댄스.csv')"
   ]
  }
 ],
 "metadata": {
  "kernelspec": {
   "display_name": "MY_PYTHON",
   "language": "python",
   "name": "python3"
  },
  "language_info": {
   "codemirror_mode": {
    "name": "ipython",
    "version": 3
   },
   "file_extension": ".py",
   "mimetype": "text/x-python",
   "name": "python",
   "nbconvert_exporter": "python",
   "pygments_lexer": "ipython3",
   "version": "3.9.18"
  },
  "orig_nbformat": 4
 },
 "nbformat": 4,
 "nbformat_minor": 2
}
