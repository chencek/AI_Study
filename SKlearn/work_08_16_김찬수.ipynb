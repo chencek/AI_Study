{
 "cells": [
  {
   "cell_type": "markdown",
   "metadata": {},
   "source": [
    "#### 산술평균\n",
    "- 모든 데이터 값을 더한후 데이터의 갯수로 나눈 값"
   ]
  },
  {
   "cell_type": "code",
   "execution_count": 24,
   "metadata": {},
   "outputs": [
    {
     "data": {
      "text/plain": [
       "7.5"
      ]
     },
     "execution_count": 24,
     "metadata": {},
     "output_type": "execute_result"
    }
   ],
   "source": [
    "def arithmetic_mean(data):\n",
    "    return sum(data)/len(data)\n",
    "def arithmetic_mean(data):\n",
    "    sum_=0\n",
    "    for i in range(len(data)):\n",
    "        sum_+=data[i]\n",
    "    return sum_/len(data)"
   ]
  },
  {
   "cell_type": "markdown",
   "metadata": {},
   "source": [
    "#### 기하평균\n",
    "- 양수 데이터의 모든 값을 곱한 후 데이터의 개수로 루트를 적용한 값"
   ]
  },
  {
   "cell_type": "code",
   "execution_count": 33,
   "metadata": {},
   "outputs": [],
   "source": [
    "def geometric_mean(data):\n",
    "    mul_ = 1\n",
    "    for value in data:\n",
    "        mul_ *= value\n",
    "    return mul_ ** (1 / len(data))"
   ]
  },
  {
   "cell_type": "markdown",
   "metadata": {},
   "source": [
    "#### 조화평균\n",
    "- 데이터의 모든 값의 역수를 더하고 데이터의 개수로 나눈 역수"
   ]
  },
  {
   "cell_type": "code",
   "execution_count": 37,
   "metadata": {},
   "outputs": [],
   "source": [
    "def harmonic_mean(data):\n",
    "    sum_=sum(1/value for value in data)\n",
    "    return len(data)/sum_"
   ]
  },
  {
   "cell_type": "code",
   "execution_count": null,
   "metadata": {},
   "outputs": [],
   "source": []
  }
 ],
 "metadata": {
  "kernelspec": {
   "display_name": "MY_PYTHON",
   "language": "python",
   "name": "python3"
  },
  "language_info": {
   "codemirror_mode": {
    "name": "ipython",
    "version": 3
   },
   "file_extension": ".py",
   "mimetype": "text/x-python",
   "name": "python",
   "nbconvert_exporter": "python",
   "pygments_lexer": "ipython3",
   "version": "3.9.17"
  },
  "orig_nbformat": 4
 },
 "nbformat": 4,
 "nbformat_minor": 2
}
