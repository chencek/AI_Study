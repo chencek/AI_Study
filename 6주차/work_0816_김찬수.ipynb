{
 "cells": [
  {
   "cell_type": "markdown",
   "metadata": {},
   "source": [
    "* 평균 계산 3개\n",
    "- 설명 : \n",
    "- 평균함수 : \n",
    "- 예시코드 : "
   ]
  },
  {
   "cell_type": "code",
   "execution_count": null,
   "metadata": {},
   "outputs": [],
   "source": [
    "import pandas as pd\n",
    "import numpy as np"
   ]
  },
  {
   "cell_type": "code",
   "execution_count": 1,
   "metadata": {},
   "outputs": [
    {
     "ename": "SyntaxError",
     "evalue": "invalid syntax (325476433.py, line 3)",
     "output_type": "error",
     "traceback": [
      "\u001b[1;36m  Cell \u001b[1;32mIn[1], line 3\u001b[1;36m\u001b[0m\n\u001b[1;33m    for i in range len(a):\u001b[0m\n\u001b[1;37m                   ^\u001b[0m\n\u001b[1;31mSyntaxError\u001b[0m\u001b[1;31m:\u001b[0m invalid syntax\n"
     ]
    }
   ],
   "source": [
    "def mean_(a):\n",
    "    average_=0\n",
    "    for i in range len(a):\n",
    "        average+=a[i]\n",
    "    average_ = average_ / len(a)\n",
    "    return average_\n",
    "    print(mean_(a))"
   ]
  },
  {
   "cell_type": "code",
   "execution_count": null,
   "metadata": {},
   "outputs": [],
   "source": [
    "# 산술 평균(Arithmetic Mean)\n",
    "# 주어진 데이터의 모든 값을 더한 후 데이터의 개수로 나누어 계산\n",
    "# mean()\n",
    "data = [10, 20, 30, 40, 50]\n",
    "mean = sum(data) / len(data)\n",
    "print(\"산술 평균:\", mean)"
   ]
  },
  {
   "cell_type": "code",
   "execution_count": null,
   "metadata": {},
   "outputs": [],
   "source": [
    "# 가중 평균 (Weighted Mean)\n",
    "# 각 데이터 값에 가중치를 곱한 후, 모든 가중치의 합으로 나누어 계산. 데이터에 중요도가 다를 때 사용\n",
    "# average()\n",
    "values = [10, 20, 30, 40, 50]\n",
    "weights = [2, 3, 4, 1, 2]\n",
    "\n",
    "weighted_sum = sum([v * w for v, w in zip(values, weights)])\n",
    "total_weights = sum(weights)\n",
    "weighted_mean = weighted_sum / total_weights\n",
    "\n",
    "print(\"가중 평균:\", weighted_mean)"
   ]
  },
  {
   "cell_type": "code",
   "execution_count": null,
   "metadata": {},
   "outputs": [],
   "source": [
    "# 중앙값 (Median)\n",
    "# 주어진 데이터를 크기 순으로 정렬한 뒤, 가운데 위치한 값. 데이터가 짝수개인 경우 가운데 두 값의 평균을 구함\n",
    "# median()\n",
    "\n",
    "data = [10, 20, 30, 40, 50]\n",
    "sorted_data = sorted(data)\n",
    "n = len(sorted_data)\n",
    "\n",
    "if n % 2 == 1:\n",
    "    median = sorted_data[n // 2]\n",
    "else:\n",
    "    median = (sorted_data[n // 2 - 1] + sorted_data[n // 2]) / 2\n",
    "\n",
    "print(\"중앙값:\", median)"
   ]
  }
 ],
 "metadata": {
  "kernelspec": {
   "display_name": "MY_PYTHON",
   "language": "python",
   "name": "python3"
  },
  "language_info": {
   "codemirror_mode": {
    "name": "ipython",
    "version": 3
   },
   "file_extension": ".py",
   "mimetype": "text/x-python",
   "name": "python",
   "nbconvert_exporter": "python",
   "pygments_lexer": "ipython3",
   "version": "3.9.17"
  },
  "orig_nbformat": 4
 },
 "nbformat": 4,
 "nbformat_minor": 2
}
